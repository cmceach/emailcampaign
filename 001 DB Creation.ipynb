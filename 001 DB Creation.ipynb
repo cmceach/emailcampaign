{
 "cells": [
  {
   "cell_type": "code",
   "execution_count": 3,
   "metadata": {},
   "outputs": [
    {
     "name": "stdout",
     "output_type": "stream",
     "text": [
      "Database and tables updated successfully with additional columns and sample data.\n"
     ]
    }
   ],
   "source": [
    "import sqlite3\n",
    "import random\n",
    "\n",
    "# Connect to a new SQLite database\n",
    "conn = sqlite3.connect('customer_data.db')\n",
    "c = conn.cursor()\n",
    "\n",
    "# Drop existing tables if they exist to recreate them with new schema\n",
    "c.execute('DROP TABLE IF EXISTS weekly_site_usage')\n",
    "c.execute('DROP TABLE IF EXISTS past_purchases')\n",
    "c.execute('DROP TABLE IF EXISTS cart_history')\n",
    "\n",
    "# Create tables with additional columns for product type and description\n",
    "c.execute('''CREATE TABLE weekly_site_usage (\n",
    "    customer_id TEXT,\n",
    "    page_visits INTEGER,\n",
    "    avg_session_duration FLOAT,\n",
    "    bounce_rate FLOAT,\n",
    "    product_type TEXT,\n",
    "    description TEXT\n",
    ")''')\n",
    "\n",
    "c.execute('''CREATE TABLE past_purchases (\n",
    "    customer_id TEXT,\n",
    "    product_id INTEGER,\n",
    "    purchase_date TEXT,\n",
    "    amount FLOAT,\n",
    "    product_type TEXT,\n",
    "    description TEXT\n",
    ")''')\n",
    "\n",
    "c.execute('''CREATE TABLE cart_history (\n",
    "    customer_id TEXT,\n",
    "    product_id INTEGER,\n",
    "    added_date TEXT,\n",
    "    quantity INTEGER,\n",
    "    product_type TEXT,\n",
    "    description TEXT\n",
    ")''')\n",
    "\n",
    "# Sample data generation\n",
    "customer_ids = [f'customer_{i}' for i in range(1, 11)]\n",
    "product_types = ['Electronics', 'Clothing', 'Books', 'Home Appliances', 'Toys']\n",
    "descriptions = ['High quality and durable', 'Latest fashion item', 'Bestselling author', 'Energy efficient', 'Fun and educational']\n",
    "\n",
    "# Insert data into weekly_site_usage\n",
    "for customer_id in customer_ids:\n",
    "    product_choice = random.choice(product_types)\n",
    "    description_choice = random.choice(descriptions)\n",
    "    c.execute('INSERT INTO weekly_site_usage VALUES (?, ?, ?, ?, ?, ?)', \n",
    "              (customer_id, random.randint(1, 100), random.uniform(1.0, 500.0), random.uniform(0.0, 100.0), product_choice, description_choice))\n",
    "\n",
    "# Insert data into past_purchases\n",
    "for customer_id in customer_ids:\n",
    "    product_choice = random.choice(product_types)\n",
    "    description_choice = random.choice(descriptions)\n",
    "    c.execute('INSERT INTO past_purchases VALUES (?, ?, ?, ?, ?, ?)', \n",
    "              (customer_id, random.randint(1000, 5000), '2024-04-28', random.uniform(10.0, 500.0), product_choice, description_choice))\n",
    "\n",
    "# Insert data into cart_history\n",
    "for customer_id in customer_ids:\n",
    "    product_choice = random.choice(product_types)\n",
    "    description_choice = random.choice(descriptions)\n",
    "    c.execute('INSERT INTO cart_history VALUES (?, ?, ?, ?, ?, ?)', \n",
    "              (customer_id, random.randint(1000, 5000), '2024-04-28', random.randint(1, 10), product_choice, description_choice))\n",
    "\n",
    "# Commit changes and close connection\n",
    "conn.commit()\n",
    "conn.close()\n",
    "\n",
    "print(\"Database and tables updated successfully with additional columns and sample data.\")\n"
   ]
  }
 ],
 "metadata": {
  "kernelspec": {
   "display_name": "crewai_realtor",
   "language": "python",
   "name": "python3"
  },
  "language_info": {
   "codemirror_mode": {
    "name": "ipython",
    "version": 3
   },
   "file_extension": ".py",
   "mimetype": "text/x-python",
   "name": "python",
   "nbconvert_exporter": "python",
   "pygments_lexer": "ipython3",
   "version": "3.10.14"
  }
 },
 "nbformat": 4,
 "nbformat_minor": 2
}
